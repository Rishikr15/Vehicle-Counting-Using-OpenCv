{
 "cells": [
  {
   "cell_type": "code",
   "execution_count": null,
   "id": "105fe032",
   "metadata": {},
   "outputs": [],
   "source": [
    "import random"
   ]
  },
  {
   "cell_type": "code",
   "execution_count": 3,
   "id": "c8fd23c4",
   "metadata": {},
   "outputs": [
    {
     "name": "stdout",
     "output_type": "stream",
     "text": [
      "20\n"
     ]
    }
   ],
   "source": [
    "print(random.randrange(20,50,3))"
   ]
  },
  {
   "cell_type": "code",
   "execution_count": 4,
   "id": "ddac76a2",
   "metadata": {},
   "outputs": [
    {
     "name": "stdout",
     "output_type": "stream",
     "text": [
      "0.11167366043181892\n"
     ]
    }
   ],
   "source": [
    "print(random.random())\n",
    "random.seed(5)"
   ]
  },
  {
   "cell_type": "markdown",
   "id": "5b88561d",
   "metadata": {},
   "source": [
    "Random library\n"
   ]
  },
  {
   "cell_type": "code",
   "execution_count": 12,
   "id": "9b5137ad",
   "metadata": {},
   "outputs": [
    {
     "ename": "TypeError",
     "evalue": "Person() takes no arguments",
     "output_type": "error",
     "traceback": [
      "\u001b[0;31m---------------------------------------------------------------------------\u001b[0m",
      "\u001b[0;31mTypeError\u001b[0m                                 Traceback (most recent call last)",
      "Cell \u001b[0;32mIn[12], line 8\u001b[0m\n\u001b[1;32m      6\u001b[0m     \u001b[38;5;28;01mdef\u001b[39;00m \u001b[38;5;21mdisplay\u001b[39m(\u001b[38;5;28mself\u001b[39m):\n\u001b[1;32m      7\u001b[0m         \u001b[38;5;28mprint\u001b[39m(\u001b[38;5;28mself\u001b[39m\u001b[38;5;241m.\u001b[39mname,\u001b[38;5;28mself\u001b[39m\u001b[38;5;241m.\u001b[39mage)\n\u001b[0;32m----> 8\u001b[0m obj \u001b[38;5;241m=\u001b[39m \u001b[43mPerson\u001b[49m\u001b[43m(\u001b[49m\u001b[38;5;124;43m'\u001b[39;49m\u001b[38;5;124;43mAmit\u001b[39;49m\u001b[38;5;124;43m'\u001b[39;49m\u001b[43m,\u001b[49m\u001b[38;5;241;43m30\u001b[39;49m\u001b[43m)\u001b[49m\n\u001b[1;32m      9\u001b[0m obj\u001b[38;5;241m.\u001b[39mdisplay()\n",
      "\u001b[0;31mTypeError\u001b[0m: Person() takes no arguments"
     ]
    }
   ],
   "source": [
    "class Person:\n",
    "    def _int_(self,name,age):\n",
    "        self.name = name\n",
    "        self.age  = age\n",
    "        \n",
    "    def display(self):\n",
    "        print(self.name,self.age)\n",
    "obj = Person('Amit',30)\n",
    "obj.display()"
   ]
  },
  {
   "cell_type": "code",
   "execution_count": 13,
   "id": "577ea7bb",
   "metadata": {},
   "outputs": [
    {
     "ename": "TypeError",
     "evalue": "Animal() takes no arguments",
     "output_type": "error",
     "traceback": [
      "\u001b[0;31m---------------------------------------------------------------------------\u001b[0m",
      "\u001b[0;31mTypeError\u001b[0m                                 Traceback (most recent call last)",
      "Cell \u001b[0;32mIn[13], line 9\u001b[0m\n\u001b[1;32m      7\u001b[0m     \u001b[38;5;28;01mdef\u001b[39;00m \u001b[38;5;21mgetColor\u001b[39m(\u001b[38;5;28mself\u001b[39m):\n\u001b[1;32m      8\u001b[0m         \u001b[38;5;28;01mreturn\u001b[39;00m \u001b[38;5;28mself\u001b[39m\u001b[38;5;241m.\u001b[39mcolor\n\u001b[0;32m----> 9\u001b[0m r\u001b[38;5;241m=\u001b[39m \u001b[43mAnimal\u001b[49m\u001b[43m(\u001b[49m\u001b[38;5;124;43m\"\u001b[39;49m\u001b[38;5;124;43mLabrador\u001b[39;49m\u001b[38;5;124;43m\"\u001b[39;49m\u001b[43m)\u001b[49m\n\u001b[1;32m     10\u001b[0m r\u001b[38;5;241m.\u001b[39msetColor(\u001b[38;5;124m\"\u001b[39m\u001b[38;5;124mBlack\u001b[39m\u001b[38;5;124m\"\u001b[39m)\n\u001b[1;32m     11\u001b[0m \u001b[38;5;28mprint\u001b[39m(r\u001b[38;5;241m.\u001b[39mgetColor())\n",
      "\u001b[0;31mTypeError\u001b[0m: Animal() takes no arguments"
     ]
    }
   ],
   "source": [
    "class Animal:\n",
    "    a=\"Dog\"\n",
    "    def _init_(self,breed):\n",
    "        self.breed = breed\n",
    "    def setColor(self,color):\n",
    "        self.color = color\n",
    "    def getColor(self):\n",
    "        return self.color\n",
    "r= Animal(\"Labrador\")\n",
    "r.setColor(\"Black\")\n",
    "print(r.getColor())\n"
   ]
  },
  {
   "cell_type": "code",
   "execution_count": null,
   "id": "0be41698",
   "metadata": {},
   "outputs": [],
   "source": [
    "class Person:\n",
    "    def _init_(self,name,id)\n",
    "        self.name=name\n",
    "        self.id=id"
   ]
  },
  {
   "cell_type": "code",
   "execution_count": null,
   "id": "4b617c8b",
   "metadata": {},
   "outputs": [],
   "source": []
  },
  {
   "cell_type": "code",
   "execution_count": null,
   "id": "4d5de210",
   "metadata": {},
   "outputs": [],
   "source": []
  }
 ],
 "metadata": {
  "kernelspec": {
   "display_name": "Python 3 (ipykernel)",
   "language": "python",
   "name": "python3"
  },
  "language_info": {
   "codemirror_mode": {
    "name": "ipython",
    "version": 3
   },
   "file_extension": ".py",
   "mimetype": "text/x-python",
   "name": "python",
   "nbconvert_exporter": "python",
   "pygments_lexer": "ipython3",
   "version": "3.10.6"
  }
 },
 "nbformat": 4,
 "nbformat_minor": 5
}
